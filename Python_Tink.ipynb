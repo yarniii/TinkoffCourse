{
 "cells": [
  {
   "cell_type": "code",
   "execution_count": 251,
   "id": "a61ceea7",
   "metadata": {},
   "outputs": [],
   "source": [
    "import random as rd\n",
    "import numpy as np\n",
    "import pandas as pd"
   ]
  },
  {
   "cell_type": "code",
   "execution_count": 252,
   "id": "d06aeb60",
   "metadata": {},
   "outputs": [],
   "source": [
    "rd.seed(\"АДВИ_2023\")"
   ]
  },
  {
   "cell_type": "code",
   "execution_count": 253,
   "id": "46e90820",
   "metadata": {},
   "outputs": [],
   "source": [
    "index=[i for i in range(1,1001)]"
   ]
  },
  {
   "cell_type": "code",
   "execution_count": 254,
   "id": "eaadfa79",
   "metadata": {},
   "outputs": [],
   "source": [
    "rd.shuffle(index)"
   ]
  },
  {
   "cell_type": "code",
   "execution_count": 255,
   "id": "dc772a8a",
   "metadata": {},
   "outputs": [],
   "source": [
    "groups=rd.choices(population=[\"группа_1\", \"группа_2\", \"группа_3\", \"группа_4\", \"группа_5\"],k=1000)"
   ]
  },
  {
   "cell_type": "code",
   "execution_count": 256,
   "id": "292c6bdf",
   "metadata": {},
   "outputs": [],
   "source": [
    "uniform=[rd.randint(50,100) for i in range(1000)]"
   ]
  },
  {
   "cell_type": "code",
   "execution_count": 257,
   "id": "e8ca6975",
   "metadata": {},
   "outputs": [],
   "source": [
    "gauss_1=[rd.gauss(0,1) for i in range(1000)]"
   ]
  },
  {
   "cell_type": "code",
   "execution_count": 258,
   "id": "e4a0ff25",
   "metadata": {},
   "outputs": [],
   "source": [
    "gauss_2=[rd.gauss(0,12) for i in range(1000)]"
   ]
  },
  {
   "cell_type": "code",
   "execution_count": 259,
   "id": "e4eee3cd",
   "metadata": {},
   "outputs": [],
   "source": [
    "gauss_3=[rd.gauss(50,9) for i in range(1000)]"
   ]
  },
  {
   "cell_type": "code",
   "execution_count": 260,
   "id": "8ee85d2d",
   "metadata": {},
   "outputs": [
    {
     "data": {
      "text/plain": [
       "1000"
      ]
     },
     "execution_count": 260,
     "metadata": {},
     "output_type": "execute_result"
    }
   ],
   "source": [
    "len(groups)"
   ]
  },
  {
   "cell_type": "code",
   "execution_count": 261,
   "id": "c7d6b98f",
   "metadata": {},
   "outputs": [],
   "source": [
    "df=pd.DataFrame(index=index,data={'groups':groups,'uniform':uniform,'gauss_1':gauss_1,'gauss_2':gauss_2,\n",
    "                               'gauss_3':gauss_3})"
   ]
  },
  {
   "cell_type": "code",
   "execution_count": 262,
   "id": "1498e399",
   "metadata": {},
   "outputs": [
    {
     "data": {
      "text/html": [
       "<div>\n",
       "<style scoped>\n",
       "    .dataframe tbody tr th:only-of-type {\n",
       "        vertical-align: middle;\n",
       "    }\n",
       "\n",
       "    .dataframe tbody tr th {\n",
       "        vertical-align: top;\n",
       "    }\n",
       "\n",
       "    .dataframe thead th {\n",
       "        text-align: right;\n",
       "    }\n",
       "</style>\n",
       "<table border=\"1\" class=\"dataframe\">\n",
       "  <thead>\n",
       "    <tr style=\"text-align: right;\">\n",
       "      <th></th>\n",
       "      <th>groups</th>\n",
       "      <th>uniform</th>\n",
       "      <th>gauss_1</th>\n",
       "      <th>gauss_2</th>\n",
       "      <th>gauss_3</th>\n",
       "    </tr>\n",
       "  </thead>\n",
       "  <tbody>\n",
       "    <tr>\n",
       "      <th>476</th>\n",
       "      <td>группа_1</td>\n",
       "      <td>95</td>\n",
       "      <td>3.010291</td>\n",
       "      <td>2.156346</td>\n",
       "      <td>57.455851</td>\n",
       "    </tr>\n",
       "    <tr>\n",
       "      <th>315</th>\n",
       "      <td>группа_5</td>\n",
       "      <td>77</td>\n",
       "      <td>0.190277</td>\n",
       "      <td>-9.934550</td>\n",
       "      <td>62.694177</td>\n",
       "    </tr>\n",
       "    <tr>\n",
       "      <th>490</th>\n",
       "      <td>группа_4</td>\n",
       "      <td>96</td>\n",
       "      <td>-0.282161</td>\n",
       "      <td>9.211071</td>\n",
       "      <td>54.688895</td>\n",
       "    </tr>\n",
       "    <tr>\n",
       "      <th>748</th>\n",
       "      <td>группа_3</td>\n",
       "      <td>56</td>\n",
       "      <td>1.127080</td>\n",
       "      <td>-12.391793</td>\n",
       "      <td>30.192353</td>\n",
       "    </tr>\n",
       "    <tr>\n",
       "      <th>471</th>\n",
       "      <td>группа_5</td>\n",
       "      <td>52</td>\n",
       "      <td>-1.238270</td>\n",
       "      <td>10.938748</td>\n",
       "      <td>52.682052</td>\n",
       "    </tr>\n",
       "    <tr>\n",
       "      <th>...</th>\n",
       "      <td>...</td>\n",
       "      <td>...</td>\n",
       "      <td>...</td>\n",
       "      <td>...</td>\n",
       "      <td>...</td>\n",
       "    </tr>\n",
       "    <tr>\n",
       "      <th>260</th>\n",
       "      <td>группа_4</td>\n",
       "      <td>57</td>\n",
       "      <td>-1.484164</td>\n",
       "      <td>-5.911598</td>\n",
       "      <td>49.330196</td>\n",
       "    </tr>\n",
       "    <tr>\n",
       "      <th>146</th>\n",
       "      <td>группа_4</td>\n",
       "      <td>78</td>\n",
       "      <td>-0.379041</td>\n",
       "      <td>-3.132954</td>\n",
       "      <td>60.329900</td>\n",
       "    </tr>\n",
       "    <tr>\n",
       "      <th>972</th>\n",
       "      <td>группа_1</td>\n",
       "      <td>52</td>\n",
       "      <td>-0.857206</td>\n",
       "      <td>0.835715</td>\n",
       "      <td>51.926114</td>\n",
       "    </tr>\n",
       "    <tr>\n",
       "      <th>161</th>\n",
       "      <td>группа_1</td>\n",
       "      <td>62</td>\n",
       "      <td>-0.195475</td>\n",
       "      <td>3.496498</td>\n",
       "      <td>66.310250</td>\n",
       "    </tr>\n",
       "    <tr>\n",
       "      <th>587</th>\n",
       "      <td>группа_5</td>\n",
       "      <td>60</td>\n",
       "      <td>0.093496</td>\n",
       "      <td>-9.164475</td>\n",
       "      <td>60.897843</td>\n",
       "    </tr>\n",
       "  </tbody>\n",
       "</table>\n",
       "<p>1000 rows × 5 columns</p>\n",
       "</div>"
      ],
      "text/plain": [
       "       groups  uniform   gauss_1    gauss_2    gauss_3\n",
       "476  группа_1       95  3.010291   2.156346  57.455851\n",
       "315  группа_5       77  0.190277  -9.934550  62.694177\n",
       "490  группа_4       96 -0.282161   9.211071  54.688895\n",
       "748  группа_3       56  1.127080 -12.391793  30.192353\n",
       "471  группа_5       52 -1.238270  10.938748  52.682052\n",
       "..        ...      ...       ...        ...        ...\n",
       "260  группа_4       57 -1.484164  -5.911598  49.330196\n",
       "146  группа_4       78 -0.379041  -3.132954  60.329900\n",
       "972  группа_1       52 -0.857206   0.835715  51.926114\n",
       "161  группа_1       62 -0.195475   3.496498  66.310250\n",
       "587  группа_5       60  0.093496  -9.164475  60.897843\n",
       "\n",
       "[1000 rows x 5 columns]"
      ]
     },
     "execution_count": 262,
     "metadata": {},
     "output_type": "execute_result"
    }
   ],
   "source": [
    "df"
   ]
  },
  {
   "cell_type": "code",
   "execution_count": 263,
   "id": "3d81fdcb",
   "metadata": {},
   "outputs": [],
   "source": [
    "df.loc[df.gauss_2%1>0.95,'gauss_2']=None # Для gauss_2, если дробная часть больше 0.95;\n"
   ]
  },
  {
   "cell_type": "code",
   "execution_count": 264,
   "id": "3f8c48a8",
   "metadata": {},
   "outputs": [
    {
     "data": {
      "text/plain": [
       "False    948\n",
       "True      52\n",
       "Name: gauss_2, dtype: int64"
      ]
     },
     "execution_count": 264,
     "metadata": {},
     "output_type": "execute_result"
    }
   ],
   "source": [
    "df.gauss_2.isna().value_counts()"
   ]
  },
  {
   "cell_type": "code",
   "execution_count": 265,
   "id": "704db52f",
   "metadata": {},
   "outputs": [],
   "source": [
    "df.loc[df.gauss_1.index%121==0,'gauss_1']=None # Для gauss_1, если индекс у значение делится на 121 без остатка;\n"
   ]
  },
  {
   "cell_type": "code",
   "execution_count": 266,
   "id": "618eaa3e",
   "metadata": {},
   "outputs": [
    {
     "data": {
      "text/plain": [
       "False    992\n",
       "True       8\n",
       "Name: gauss_1, dtype: int64"
      ]
     },
     "execution_count": 266,
     "metadata": {},
     "output_type": "execute_result"
    }
   ],
   "source": [
    "df.gauss_1.isna().value_counts()"
   ]
  },
  {
   "cell_type": "code",
   "execution_count": 267,
   "id": "06f3c6f3",
   "metadata": {},
   "outputs": [],
   "source": [
    "df.gauss_2=df.gauss_2.fillna(df.gauss_2.mean()) # Для gauss_2 None заменить на среднее по колонке;\n"
   ]
  },
  {
   "cell_type": "code",
   "execution_count": 268,
   "id": "37950530",
   "metadata": {},
   "outputs": [
    {
     "data": {
      "text/plain": [
       "False    1000\n",
       "Name: gauss_2, dtype: int64"
      ]
     },
     "execution_count": 268,
     "metadata": {},
     "output_type": "execute_result"
    }
   ],
   "source": [
    "df.gauss_2.isna().value_counts()"
   ]
  },
  {
   "cell_type": "code",
   "execution_count": 269,
   "id": "4049bb3d",
   "metadata": {
    "scrolled": false
   },
   "outputs": [],
   "source": [
    "df=df.drop(df[df.gauss_1.isna()].index) # Удалить строчки из таблицы, где gauss_1 == None.\n"
   ]
  },
  {
   "cell_type": "code",
   "execution_count": 270,
   "id": "7334e1ac",
   "metadata": {},
   "outputs": [
    {
     "data": {
      "text/plain": [
       "False    992\n",
       "Name: gauss_1, dtype: int64"
      ]
     },
     "execution_count": 270,
     "metadata": {},
     "output_type": "execute_result"
    }
   ],
   "source": [
    "df.gauss_1.isna().value_counts()"
   ]
  },
  {
   "cell_type": "code",
   "execution_count": 271,
   "id": "5d2167d8",
   "metadata": {},
   "outputs": [
    {
     "data": {
      "text/html": [
       "<div>\n",
       "<style scoped>\n",
       "    .dataframe tbody tr th:only-of-type {\n",
       "        vertical-align: middle;\n",
       "    }\n",
       "\n",
       "    .dataframe tbody tr th {\n",
       "        vertical-align: top;\n",
       "    }\n",
       "\n",
       "    .dataframe thead th {\n",
       "        text-align: right;\n",
       "    }\n",
       "</style>\n",
       "<table border=\"1\" class=\"dataframe\">\n",
       "  <thead>\n",
       "    <tr style=\"text-align: right;\">\n",
       "      <th></th>\n",
       "      <th>groups</th>\n",
       "      <th>uniform</th>\n",
       "      <th>gauss_1</th>\n",
       "      <th>gauss_2</th>\n",
       "      <th>gauss_3</th>\n",
       "    </tr>\n",
       "  </thead>\n",
       "  <tbody>\n",
       "    <tr>\n",
       "      <th>476</th>\n",
       "      <td>группа_1</td>\n",
       "      <td>95</td>\n",
       "      <td>3.010291</td>\n",
       "      <td>2.156346</td>\n",
       "      <td>57.455851</td>\n",
       "    </tr>\n",
       "    <tr>\n",
       "      <th>315</th>\n",
       "      <td>группа_5</td>\n",
       "      <td>77</td>\n",
       "      <td>0.190277</td>\n",
       "      <td>-9.934550</td>\n",
       "      <td>62.694177</td>\n",
       "    </tr>\n",
       "    <tr>\n",
       "      <th>490</th>\n",
       "      <td>группа_4</td>\n",
       "      <td>96</td>\n",
       "      <td>-0.282161</td>\n",
       "      <td>9.211071</td>\n",
       "      <td>54.688895</td>\n",
       "    </tr>\n",
       "    <tr>\n",
       "      <th>748</th>\n",
       "      <td>группа_3</td>\n",
       "      <td>56</td>\n",
       "      <td>1.127080</td>\n",
       "      <td>-12.391793</td>\n",
       "      <td>30.192353</td>\n",
       "    </tr>\n",
       "    <tr>\n",
       "      <th>471</th>\n",
       "      <td>группа_5</td>\n",
       "      <td>52</td>\n",
       "      <td>-1.238270</td>\n",
       "      <td>10.938748</td>\n",
       "      <td>52.682052</td>\n",
       "    </tr>\n",
       "  </tbody>\n",
       "</table>\n",
       "</div>"
      ],
      "text/plain": [
       "       groups  uniform   gauss_1    gauss_2    gauss_3\n",
       "476  группа_1       95  3.010291   2.156346  57.455851\n",
       "315  группа_5       77  0.190277  -9.934550  62.694177\n",
       "490  группа_4       96 -0.282161   9.211071  54.688895\n",
       "748  группа_3       56  1.127080 -12.391793  30.192353\n",
       "471  группа_5       52 -1.238270  10.938748  52.682052"
      ]
     },
     "execution_count": 271,
     "metadata": {},
     "output_type": "execute_result"
    }
   ],
   "source": [
    "df.head()"
   ]
  },
  {
   "cell_type": "code",
   "execution_count": 272,
   "id": "2fbd4ca1",
   "metadata": {},
   "outputs": [
    {
     "data": {
      "text/plain": [
       "(992, 5)"
      ]
     },
     "execution_count": 272,
     "metadata": {},
     "output_type": "execute_result"
    }
   ],
   "source": [
    "df.shape # размер таблицы после преобразований"
   ]
  },
  {
   "cell_type": "code",
   "execution_count": 273,
   "id": "365a4b08",
   "metadata": {},
   "outputs": [
    {
     "data": {
      "text/plain": [
       "-0.26"
      ]
     },
     "execution_count": 273,
     "metadata": {},
     "output_type": "execute_result"
    }
   ],
   "source": [
    "df.gauss_2.mean().round(2) # среднее значение"
   ]
  },
  {
   "cell_type": "code",
   "execution_count": 274,
   "id": "c39aa735",
   "metadata": {},
   "outputs": [
    {
     "data": {
      "text/plain": [
       "11.93"
      ]
     },
     "execution_count": 274,
     "metadata": {},
     "output_type": "execute_result"
    }
   ],
   "source": [
    "df.gauss_2.std().round(2) # среднеквадратичное (стандартное) отклонение"
   ]
  },
  {
   "cell_type": "code",
   "execution_count": 278,
   "id": "0858ddca",
   "metadata": {},
   "outputs": [
    {
     "data": {
      "text/html": [
       "<div>\n",
       "<style scoped>\n",
       "    .dataframe tbody tr th:only-of-type {\n",
       "        vertical-align: middle;\n",
       "    }\n",
       "\n",
       "    .dataframe tbody tr th {\n",
       "        vertical-align: top;\n",
       "    }\n",
       "\n",
       "    .dataframe thead th {\n",
       "        text-align: right;\n",
       "    }\n",
       "</style>\n",
       "<table border=\"1\" class=\"dataframe\">\n",
       "  <thead>\n",
       "    <tr style=\"text-align: right;\">\n",
       "      <th></th>\n",
       "      <th>uniform</th>\n",
       "    </tr>\n",
       "    <tr>\n",
       "      <th>groups</th>\n",
       "      <th></th>\n",
       "    </tr>\n",
       "  </thead>\n",
       "  <tbody>\n",
       "    <tr>\n",
       "      <th>группа_4</th>\n",
       "      <td>222</td>\n",
       "    </tr>\n",
       "    <tr>\n",
       "      <th>группа_1</th>\n",
       "      <td>215</td>\n",
       "    </tr>\n",
       "    <tr>\n",
       "      <th>группа_2</th>\n",
       "      <td>194</td>\n",
       "    </tr>\n",
       "    <tr>\n",
       "      <th>группа_3</th>\n",
       "      <td>184</td>\n",
       "    </tr>\n",
       "    <tr>\n",
       "      <th>группа_5</th>\n",
       "      <td>177</td>\n",
       "    </tr>\n",
       "  </tbody>\n",
       "</table>\n",
       "</div>"
      ],
      "text/plain": [
       "          uniform\n",
       "groups           \n",
       "группа_4      222\n",
       "группа_1      215\n",
       "группа_2      194\n",
       "группа_3      184\n",
       "группа_5      177"
      ]
     },
     "execution_count": 278,
     "metadata": {},
     "output_type": "execute_result"
    }
   ],
   "source": [
    "df\\\n",
    "    .groupby('groups')\\\n",
    "    .agg({'uniform':'count'})\\\n",
    "    .sort_values('uniform',ascending=False)"
   ]
  },
  {
   "cell_type": "code",
   "execution_count": 285,
   "id": "6f045c15",
   "metadata": {},
   "outputs": [
    {
     "data": {
      "text/html": [
       "<div>\n",
       "<style scoped>\n",
       "    .dataframe tbody tr th:only-of-type {\n",
       "        vertical-align: middle;\n",
       "    }\n",
       "\n",
       "    .dataframe tbody tr th {\n",
       "        vertical-align: top;\n",
       "    }\n",
       "\n",
       "    .dataframe thead th {\n",
       "        text-align: right;\n",
       "    }\n",
       "</style>\n",
       "<table border=\"1\" class=\"dataframe\">\n",
       "  <thead>\n",
       "    <tr style=\"text-align: right;\">\n",
       "      <th></th>\n",
       "      <th>groups</th>\n",
       "      <th>uniform</th>\n",
       "      <th>gauss_1</th>\n",
       "      <th>gauss_2</th>\n",
       "      <th>gauss_3</th>\n",
       "    </tr>\n",
       "  </thead>\n",
       "  <tbody>\n",
       "    <tr>\n",
       "      <th>6</th>\n",
       "      <td>группа_5</td>\n",
       "      <td>64</td>\n",
       "      <td>0.121862</td>\n",
       "      <td>-15.706344</td>\n",
       "      <td>37.264697</td>\n",
       "    </tr>\n",
       "    <tr>\n",
       "      <th>7</th>\n",
       "      <td>группа_5</td>\n",
       "      <td>79</td>\n",
       "      <td>0.789998</td>\n",
       "      <td>-1.125028</td>\n",
       "      <td>56.556745</td>\n",
       "    </tr>\n",
       "    <tr>\n",
       "      <th>18</th>\n",
       "      <td>группа_5</td>\n",
       "      <td>80</td>\n",
       "      <td>0.390384</td>\n",
       "      <td>-3.111324</td>\n",
       "      <td>57.699977</td>\n",
       "    </tr>\n",
       "    <tr>\n",
       "      <th>21</th>\n",
       "      <td>группа_5</td>\n",
       "      <td>95</td>\n",
       "      <td>0.434685</td>\n",
       "      <td>6.883961</td>\n",
       "      <td>40.440062</td>\n",
       "    </tr>\n",
       "    <tr>\n",
       "      <th>22</th>\n",
       "      <td>группа_5</td>\n",
       "      <td>70</td>\n",
       "      <td>2.189199</td>\n",
       "      <td>-23.722245</td>\n",
       "      <td>47.054641</td>\n",
       "    </tr>\n",
       "    <tr>\n",
       "      <th>...</th>\n",
       "      <td>...</td>\n",
       "      <td>...</td>\n",
       "      <td>...</td>\n",
       "      <td>...</td>\n",
       "      <td>...</td>\n",
       "    </tr>\n",
       "    <tr>\n",
       "      <th>971</th>\n",
       "      <td>группа_5</td>\n",
       "      <td>80</td>\n",
       "      <td>-0.745116</td>\n",
       "      <td>0.449869</td>\n",
       "      <td>47.499498</td>\n",
       "    </tr>\n",
       "    <tr>\n",
       "      <th>978</th>\n",
       "      <td>группа_5</td>\n",
       "      <td>50</td>\n",
       "      <td>0.712819</td>\n",
       "      <td>3.428607</td>\n",
       "      <td>44.329374</td>\n",
       "    </tr>\n",
       "    <tr>\n",
       "      <th>989</th>\n",
       "      <td>группа_5</td>\n",
       "      <td>60</td>\n",
       "      <td>0.148515</td>\n",
       "      <td>2.928564</td>\n",
       "      <td>38.729513</td>\n",
       "    </tr>\n",
       "    <tr>\n",
       "      <th>997</th>\n",
       "      <td>группа_5</td>\n",
       "      <td>60</td>\n",
       "      <td>0.765711</td>\n",
       "      <td>-16.933376</td>\n",
       "      <td>33.617591</td>\n",
       "    </tr>\n",
       "    <tr>\n",
       "      <th>1000</th>\n",
       "      <td>группа_5</td>\n",
       "      <td>55</td>\n",
       "      <td>0.007151</td>\n",
       "      <td>5.734309</td>\n",
       "      <td>59.909507</td>\n",
       "    </tr>\n",
       "  </tbody>\n",
       "</table>\n",
       "<p>177 rows × 5 columns</p>\n",
       "</div>"
      ],
      "text/plain": [
       "        groups  uniform   gauss_1    gauss_2    gauss_3\n",
       "6     группа_5       64  0.121862 -15.706344  37.264697\n",
       "7     группа_5       79  0.789998  -1.125028  56.556745\n",
       "18    группа_5       80  0.390384  -3.111324  57.699977\n",
       "21    группа_5       95  0.434685   6.883961  40.440062\n",
       "22    группа_5       70  2.189199 -23.722245  47.054641\n",
       "...        ...      ...       ...        ...        ...\n",
       "971   группа_5       80 -0.745116   0.449869  47.499498\n",
       "978   группа_5       50  0.712819   3.428607  44.329374\n",
       "989   группа_5       60  0.148515   2.928564  38.729513\n",
       "997   группа_5       60  0.765711 -16.933376  33.617591\n",
       "1000  группа_5       55  0.007151   5.734309  59.909507\n",
       "\n",
       "[177 rows x 5 columns]"
      ]
     },
     "execution_count": 285,
     "metadata": {},
     "output_type": "execute_result"
    }
   ],
   "source": [
    "df.query(\"groups=='группа_5'\").sort_index()"
   ]
  },
  {
   "cell_type": "code",
   "execution_count": 292,
   "id": "d8648f44",
   "metadata": {},
   "outputs": [],
   "source": [
    "percent=np.percentile(df.uniform,90)"
   ]
  },
  {
   "cell_type": "code",
   "execution_count": 293,
   "id": "5511d72e",
   "metadata": {},
   "outputs": [
    {
     "data": {
      "text/html": [
       "<div>\n",
       "<style scoped>\n",
       "    .dataframe tbody tr th:only-of-type {\n",
       "        vertical-align: middle;\n",
       "    }\n",
       "\n",
       "    .dataframe tbody tr th {\n",
       "        vertical-align: top;\n",
       "    }\n",
       "\n",
       "    .dataframe thead th {\n",
       "        text-align: right;\n",
       "    }\n",
       "</style>\n",
       "<table border=\"1\" class=\"dataframe\">\n",
       "  <thead>\n",
       "    <tr style=\"text-align: right;\">\n",
       "      <th></th>\n",
       "      <th>groups</th>\n",
       "      <th>uniform</th>\n",
       "      <th>gauss_1</th>\n",
       "      <th>gauss_2</th>\n",
       "      <th>gauss_3</th>\n",
       "    </tr>\n",
       "  </thead>\n",
       "  <tbody>\n",
       "    <tr>\n",
       "      <th>476</th>\n",
       "      <td>группа_1</td>\n",
       "      <td>95</td>\n",
       "      <td>3.010291</td>\n",
       "      <td>2.156346</td>\n",
       "      <td>57.455851</td>\n",
       "    </tr>\n",
       "    <tr>\n",
       "      <th>490</th>\n",
       "      <td>группа_4</td>\n",
       "      <td>96</td>\n",
       "      <td>-0.282161</td>\n",
       "      <td>9.211071</td>\n",
       "      <td>54.688895</td>\n",
       "    </tr>\n",
       "    <tr>\n",
       "      <th>392</th>\n",
       "      <td>группа_4</td>\n",
       "      <td>96</td>\n",
       "      <td>-0.022030</td>\n",
       "      <td>-15.327097</td>\n",
       "      <td>47.695130</td>\n",
       "    </tr>\n",
       "    <tr>\n",
       "      <th>655</th>\n",
       "      <td>группа_2</td>\n",
       "      <td>100</td>\n",
       "      <td>0.148248</td>\n",
       "      <td>9.559408</td>\n",
       "      <td>49.953550</td>\n",
       "    </tr>\n",
       "    <tr>\n",
       "      <th>984</th>\n",
       "      <td>группа_1</td>\n",
       "      <td>95</td>\n",
       "      <td>0.250564</td>\n",
       "      <td>26.720028</td>\n",
       "      <td>48.241485</td>\n",
       "    </tr>\n",
       "    <tr>\n",
       "      <th>...</th>\n",
       "      <td>...</td>\n",
       "      <td>...</td>\n",
       "      <td>...</td>\n",
       "      <td>...</td>\n",
       "      <td>...</td>\n",
       "    </tr>\n",
       "    <tr>\n",
       "      <th>212</th>\n",
       "      <td>группа_1</td>\n",
       "      <td>98</td>\n",
       "      <td>-1.347081</td>\n",
       "      <td>12.835375</td>\n",
       "      <td>58.932945</td>\n",
       "    </tr>\n",
       "    <tr>\n",
       "      <th>466</th>\n",
       "      <td>группа_4</td>\n",
       "      <td>99</td>\n",
       "      <td>0.028367</td>\n",
       "      <td>-13.990673</td>\n",
       "      <td>51.670629</td>\n",
       "    </tr>\n",
       "    <tr>\n",
       "      <th>281</th>\n",
       "      <td>группа_5</td>\n",
       "      <td>94</td>\n",
       "      <td>-0.909154</td>\n",
       "      <td>-11.396166</td>\n",
       "      <td>52.202034</td>\n",
       "    </tr>\n",
       "    <tr>\n",
       "      <th>286</th>\n",
       "      <td>группа_1</td>\n",
       "      <td>98</td>\n",
       "      <td>0.690832</td>\n",
       "      <td>-5.730558</td>\n",
       "      <td>65.254248</td>\n",
       "    </tr>\n",
       "    <tr>\n",
       "      <th>360</th>\n",
       "      <td>группа_2</td>\n",
       "      <td>95</td>\n",
       "      <td>-0.465871</td>\n",
       "      <td>12.704768</td>\n",
       "      <td>63.314157</td>\n",
       "    </tr>\n",
       "  </tbody>\n",
       "</table>\n",
       "<p>118 rows × 5 columns</p>\n",
       "</div>"
      ],
      "text/plain": [
       "       groups  uniform   gauss_1    gauss_2    gauss_3\n",
       "476  группа_1       95  3.010291   2.156346  57.455851\n",
       "490  группа_4       96 -0.282161   9.211071  54.688895\n",
       "392  группа_4       96 -0.022030 -15.327097  47.695130\n",
       "655  группа_2      100  0.148248   9.559408  49.953550\n",
       "984  группа_1       95  0.250564  26.720028  48.241485\n",
       "..        ...      ...       ...        ...        ...\n",
       "212  группа_1       98 -1.347081  12.835375  58.932945\n",
       "466  группа_4       99  0.028367 -13.990673  51.670629\n",
       "281  группа_5       94 -0.909154 -11.396166  52.202034\n",
       "286  группа_1       98  0.690832  -5.730558  65.254248\n",
       "360  группа_2       95 -0.465871  12.704768  63.314157\n",
       "\n",
       "[118 rows x 5 columns]"
      ]
     },
     "execution_count": 293,
     "metadata": {},
     "output_type": "execute_result"
    }
   ],
   "source": [
    "df.loc[df.uniform>=percent]"
   ]
  },
  {
   "cell_type": "code",
   "execution_count": 296,
   "id": "74f006c3",
   "metadata": {},
   "outputs": [
    {
     "data": {
      "text/html": [
       "<div>\n",
       "<style scoped>\n",
       "    .dataframe tbody tr th:only-of-type {\n",
       "        vertical-align: middle;\n",
       "    }\n",
       "\n",
       "    .dataframe tbody tr th {\n",
       "        vertical-align: top;\n",
       "    }\n",
       "\n",
       "    .dataframe thead th {\n",
       "        text-align: right;\n",
       "    }\n",
       "</style>\n",
       "<table border=\"1\" class=\"dataframe\">\n",
       "  <thead>\n",
       "    <tr style=\"text-align: right;\">\n",
       "      <th></th>\n",
       "      <th>gauss_3</th>\n",
       "    </tr>\n",
       "    <tr>\n",
       "      <th>groups</th>\n",
       "      <th></th>\n",
       "    </tr>\n",
       "  </thead>\n",
       "  <tbody>\n",
       "    <tr>\n",
       "      <th>группа_2</th>\n",
       "      <td>49.99</td>\n",
       "    </tr>\n",
       "    <tr>\n",
       "      <th>группа_5</th>\n",
       "      <td>49.94</td>\n",
       "    </tr>\n",
       "    <tr>\n",
       "      <th>группа_1</th>\n",
       "      <td>49.88</td>\n",
       "    </tr>\n",
       "    <tr>\n",
       "      <th>группа_3</th>\n",
       "      <td>49.46</td>\n",
       "    </tr>\n",
       "    <tr>\n",
       "      <th>группа_4</th>\n",
       "      <td>49.07</td>\n",
       "    </tr>\n",
       "  </tbody>\n",
       "</table>\n",
       "</div>"
      ],
      "text/plain": [
       "          gauss_3\n",
       "groups           \n",
       "группа_2    49.99\n",
       "группа_5    49.94\n",
       "группа_1    49.88\n",
       "группа_3    49.46\n",
       "группа_4    49.07"
      ]
     },
     "execution_count": 296,
     "metadata": {},
     "output_type": "execute_result"
    }
   ],
   "source": [
    "df\\\n",
    "    .groupby('groups')\\\n",
    "    .agg({'gauss_3':pd.Series.median})\\\n",
    "    .sort_values('gauss_3',ascending=False).round(2)"
   ]
  },
  {
   "cell_type": "code",
   "execution_count": 297,
   "id": "e89e79fd",
   "metadata": {},
   "outputs": [
    {
     "data": {
      "text/html": [
       "<div>\n",
       "<style scoped>\n",
       "    .dataframe tbody tr th:only-of-type {\n",
       "        vertical-align: middle;\n",
       "    }\n",
       "\n",
       "    .dataframe tbody tr th {\n",
       "        vertical-align: top;\n",
       "    }\n",
       "\n",
       "    .dataframe thead th {\n",
       "        text-align: right;\n",
       "    }\n",
       "</style>\n",
       "<table border=\"1\" class=\"dataframe\">\n",
       "  <thead>\n",
       "    <tr style=\"text-align: right;\">\n",
       "      <th></th>\n",
       "      <th>gauss_1</th>\n",
       "    </tr>\n",
       "    <tr>\n",
       "      <th>groups</th>\n",
       "      <th></th>\n",
       "    </tr>\n",
       "  </thead>\n",
       "  <tbody>\n",
       "    <tr>\n",
       "      <th>группа_1</th>\n",
       "      <td>-3.628448</td>\n",
       "    </tr>\n",
       "    <tr>\n",
       "      <th>группа_2</th>\n",
       "      <td>-2.692705</td>\n",
       "    </tr>\n",
       "    <tr>\n",
       "      <th>группа_3</th>\n",
       "      <td>-2.606773</td>\n",
       "    </tr>\n",
       "    <tr>\n",
       "      <th>группа_4</th>\n",
       "      <td>-3.933254</td>\n",
       "    </tr>\n",
       "    <tr>\n",
       "      <th>группа_5</th>\n",
       "      <td>-2.639733</td>\n",
       "    </tr>\n",
       "  </tbody>\n",
       "</table>\n",
       "</div>"
      ],
      "text/plain": [
       "           gauss_1\n",
       "groups            \n",
       "группа_1 -3.628448\n",
       "группа_2 -2.692705\n",
       "группа_3 -2.606773\n",
       "группа_4 -3.933254\n",
       "группа_5 -2.639733"
      ]
     },
     "execution_count": 297,
     "metadata": {},
     "output_type": "execute_result"
    }
   ],
   "source": [
    "df.groupby('groups')\\\n",
    "  .agg({'gauss_1':'min'})"
   ]
  },
  {
   "cell_type": "code",
   "execution_count": 298,
   "id": "c9be7f69",
   "metadata": {},
   "outputs": [
    {
     "data": {
      "text/html": [
       "<div>\n",
       "<style scoped>\n",
       "    .dataframe tbody tr th:only-of-type {\n",
       "        vertical-align: middle;\n",
       "    }\n",
       "\n",
       "    .dataframe tbody tr th {\n",
       "        vertical-align: top;\n",
       "    }\n",
       "\n",
       "    .dataframe thead th {\n",
       "        text-align: right;\n",
       "    }\n",
       "</style>\n",
       "<table border=\"1\" class=\"dataframe\">\n",
       "  <thead>\n",
       "    <tr style=\"text-align: right;\">\n",
       "      <th></th>\n",
       "      <th>uniform</th>\n",
       "    </tr>\n",
       "    <tr>\n",
       "      <th>groups</th>\n",
       "      <th></th>\n",
       "    </tr>\n",
       "  </thead>\n",
       "  <tbody>\n",
       "    <tr>\n",
       "      <th>группа_1</th>\n",
       "      <td>50</td>\n",
       "    </tr>\n",
       "    <tr>\n",
       "      <th>группа_2</th>\n",
       "      <td>50</td>\n",
       "    </tr>\n",
       "    <tr>\n",
       "      <th>группа_3</th>\n",
       "      <td>50</td>\n",
       "    </tr>\n",
       "    <tr>\n",
       "      <th>группа_4</th>\n",
       "      <td>50</td>\n",
       "    </tr>\n",
       "    <tr>\n",
       "      <th>группа_5</th>\n",
       "      <td>50</td>\n",
       "    </tr>\n",
       "  </tbody>\n",
       "</table>\n",
       "</div>"
      ],
      "text/plain": [
       "          uniform\n",
       "groups           \n",
       "группа_1       50\n",
       "группа_2       50\n",
       "группа_3       50\n",
       "группа_4       50\n",
       "группа_5       50"
      ]
     },
     "execution_count": 298,
     "metadata": {},
     "output_type": "execute_result"
    }
   ],
   "source": [
    "df.groupby('groups')\\\n",
    "  .agg({'uniform':'min'})"
   ]
  },
  {
   "cell_type": "code",
   "execution_count": 306,
   "id": "abd5bd5f",
   "metadata": {},
   "outputs": [
    {
     "data": {
      "text/plain": [
       "gauss_1    группа_3\n",
       "dtype: object"
      ]
     },
     "execution_count": 306,
     "metadata": {},
     "output_type": "execute_result"
    }
   ],
   "source": [
    "df.groupby('groups')\\\n",
    "  .agg({'gauss_1':'min'}).idxmax()"
   ]
  },
  {
   "cell_type": "code",
   "execution_count": 310,
   "id": "c1b511c9",
   "metadata": {},
   "outputs": [
    {
     "data": {
      "text/html": [
       "<div>\n",
       "<style scoped>\n",
       "    .dataframe tbody tr th:only-of-type {\n",
       "        vertical-align: middle;\n",
       "    }\n",
       "\n",
       "    .dataframe tbody tr th {\n",
       "        vertical-align: top;\n",
       "    }\n",
       "\n",
       "    .dataframe thead th {\n",
       "        text-align: right;\n",
       "    }\n",
       "</style>\n",
       "<table border=\"1\" class=\"dataframe\">\n",
       "  <thead>\n",
       "    <tr style=\"text-align: right;\">\n",
       "      <th></th>\n",
       "      <th>gauss_2</th>\n",
       "    </tr>\n",
       "    <tr>\n",
       "      <th>groups</th>\n",
       "      <th></th>\n",
       "    </tr>\n",
       "  </thead>\n",
       "  <tbody>\n",
       "    <tr>\n",
       "      <th>группа_3</th>\n",
       "      <td>-36.19</td>\n",
       "    </tr>\n",
       "  </tbody>\n",
       "</table>\n",
       "</div>"
      ],
      "text/plain": [
       "          gauss_2\n",
       "groups           \n",
       "группа_3   -36.19"
      ]
     },
     "execution_count": 310,
     "metadata": {},
     "output_type": "execute_result"
    }
   ],
   "source": [
    "df.groupby('groups')\\\n",
    "  .agg({'gauss_2':'min'}).round(2).query(\"groups=='группа_3'\")"
   ]
  },
  {
   "cell_type": "code",
   "execution_count": 311,
   "id": "f2563c34",
   "metadata": {},
   "outputs": [],
   "source": [
    "#(gauss_1 + gauss_2) / gauss_3\n",
    "df['gauss']=(df.gauss_1+df.gauss_2)/df.gauss_3"
   ]
  },
  {
   "cell_type": "code",
   "execution_count": 313,
   "id": "b0f4a989",
   "metadata": {},
   "outputs": [
    {
     "data": {
      "text/plain": [
       "0.11"
      ]
     },
     "execution_count": 313,
     "metadata": {},
     "output_type": "execute_result"
    }
   ],
   "source": [
    "np.percentile(df.gauss,70).round(2)"
   ]
  },
  {
   "cell_type": "code",
   "execution_count": null,
   "id": "2fde4dd0",
   "metadata": {},
   "outputs": [],
   "source": []
  }
 ],
 "metadata": {
  "kernelspec": {
   "display_name": "Python 3 (ipykernel)",
   "language": "python",
   "name": "python3"
  },
  "language_info": {
   "codemirror_mode": {
    "name": "ipython",
    "version": 3
   },
   "file_extension": ".py",
   "mimetype": "text/x-python",
   "name": "python",
   "nbconvert_exporter": "python",
   "pygments_lexer": "ipython3",
   "version": "3.10.6"
  }
 },
 "nbformat": 4,
 "nbformat_minor": 5
}
